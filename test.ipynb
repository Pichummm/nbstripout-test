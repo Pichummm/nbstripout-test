{
 "cells": [
  {
   "cell_type": "code",
   "execution_count": null,
   "metadata": {},
   "outputs": [],
   "source": [
    "import random\n",
    "\n",
    "def print_random_numbers(count, start, end):\n",
    "    for _ in range(count):\n",
    "        random_number = random.randint(start, end)\n",
    "        print(random_number)\n",
    "\n",
    "# 使用例: 5つのランダムな整数を1から10の範囲で生成\n",
    "print_random_numbers(5, 1, 10)"
   ]
  },
  {
   "cell_type": "code",
   "execution_count": null,
   "metadata": {},
   "outputs": [],
   "source": [
    "import random\n",
    "\n",
    "def print_random_numbers(count, start, end):\n",
    "    for _ in range(count):\n",
    "        random_number = random.randint(start, end)\n",
    "        print(random_number)\n",
    "\n",
    "# 使用例: 5つのランダムな整数を1から10の範囲で生成\n",
    "print_random_numbers(5, 1, 20)"
   ]
  }
 ],
 "metadata": {
  "kernelspec": {
   "display_name": "venv",
   "language": "python",
   "name": "python3"
  },
  "language_info": {
   "codemirror_mode": {
    "name": "ipython",
    "version": 3
   },
   "file_extension": ".py",
   "mimetype": "text/x-python",
   "name": "python",
   "nbconvert_exporter": "python",
   "pygments_lexer": "ipython3",
   "version": "3.9.13"
  }
 },
 "nbformat": 4,
 "nbformat_minor": 2
}
